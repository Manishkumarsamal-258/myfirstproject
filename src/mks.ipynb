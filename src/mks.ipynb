{
 "cells": [
  {
   "cell_type": "code",
   "execution_count": 26,
   "metadata": {},
   "outputs": [
    {
     "ename": "ModuleNotFoundError",
     "evalue": "No module named 'matplotlib'",
     "output_type": "error",
     "traceback": [
      "\u001b[1;31m---------------------------------------------------------------------------\u001b[0m",
      "\u001b[1;31mModuleNotFoundError\u001b[0m                       Traceback (most recent call last)",
      "\u001b[1;32m~\\AppData\\Local\\Temp/ipykernel_1820/1492400551.py\u001b[0m in \u001b[0;36m<module>\u001b[1;34m\u001b[0m\n\u001b[0;32m      1\u001b[0m \u001b[1;32mimport\u001b[0m \u001b[0mpandas\u001b[0m \u001b[1;32mas\u001b[0m \u001b[0mpd\u001b[0m\u001b[1;33m\u001b[0m\u001b[1;33m\u001b[0m\u001b[0m\n\u001b[1;32m----> 2\u001b[1;33m \u001b[1;32mimport\u001b[0m \u001b[0mmatplotlib\u001b[0m\u001b[1;33m.\u001b[0m\u001b[0mpyplot\u001b[0m \u001b[1;32mas\u001b[0m \u001b[0mplt\u001b[0m\u001b[1;33m\u001b[0m\u001b[1;33m\u001b[0m\u001b[0m\n\u001b[0m",
      "\u001b[1;31mModuleNotFoundError\u001b[0m: No module named 'matplotlib'"
     ]
    }
   ],
   "source": [
    "import pandas as pd\n",
    "import matplotlib "
   ]
  },
  {
   "cell_type": "code",
   "execution_count": null,
   "metadata": {},
   "outputs": [],
   "source": []
  },
  {
   "cell_type": "code",
   "execution_count": 16,
   "metadata": {},
   "outputs": [
    {
     "data": {
      "text/html": [
       "<div>\n",
       "<style scoped>\n",
       "    .dataframe tbody tr th:only-of-type {\n",
       "        vertical-align: middle;\n",
       "    }\n",
       "\n",
       "    .dataframe tbody tr th {\n",
       "        vertical-align: top;\n",
       "    }\n",
       "\n",
       "    .dataframe thead th {\n",
       "        text-align: right;\n",
       "    }\n",
       "</style>\n",
       "<table border=\"1\" class=\"dataframe\">\n",
       "  <thead>\n",
       "    <tr style=\"text-align: right;\">\n",
       "      <th></th>\n",
       "      <th>Rank</th>\n",
       "      <th>name</th>\n",
       "      <th>pop2022</th>\n",
       "      <th>pop2021</th>\n",
       "      <th>GrowthRate</th>\n",
       "      <th>area</th>\n",
       "      <th>Density</th>\n",
       "      <th>Unnamed: 7</th>\n",
       "      <th>Unnamed: 8</th>\n",
       "      <th>Unnamed: 9</th>\n",
       "      <th>Unnamed: 10</th>\n",
       "    </tr>\n",
       "  </thead>\n",
       "  <tbody>\n",
       "    <tr>\n",
       "      <th>0</th>\n",
       "      <td>1</td>\n",
       "      <td>China</td>\n",
       "      <td>1425887.337</td>\n",
       "      <td>1425893.465</td>\n",
       "      <td>1.0000</td>\n",
       "      <td>9706961</td>\n",
       "      <td>146.8933</td>\n",
       "      <td>NaN</td>\n",
       "      <td>NaN</td>\n",
       "      <td>NaN</td>\n",
       "      <td>NaN</td>\n",
       "    </tr>\n",
       "    <tr>\n",
       "      <th>1</th>\n",
       "      <td>2</td>\n",
       "      <td>India</td>\n",
       "      <td>1417173.173</td>\n",
       "      <td>1407563.842</td>\n",
       "      <td>1.0068</td>\n",
       "      <td>3287590</td>\n",
       "      <td>431.0675</td>\n",
       "      <td>NaN</td>\n",
       "      <td>NaN</td>\n",
       "      <td>NaN</td>\n",
       "      <td>NaN</td>\n",
       "    </tr>\n",
       "    <tr>\n",
       "      <th>2</th>\n",
       "      <td>3</td>\n",
       "      <td>United States</td>\n",
       "      <td>338289.857</td>\n",
       "      <td>336997.624</td>\n",
       "      <td>1.0038</td>\n",
       "      <td>9372610</td>\n",
       "      <td>36.0935</td>\n",
       "      <td>NaN</td>\n",
       "      <td>Rank</td>\n",
       "      <td>(Multiple Items)</td>\n",
       "      <td>NaN</td>\n",
       "    </tr>\n",
       "    <tr>\n",
       "      <th>3</th>\n",
       "      <td>4</td>\n",
       "      <td>Indonesia</td>\n",
       "      <td>275501.339</td>\n",
       "      <td>273753.191</td>\n",
       "      <td>1.0064</td>\n",
       "      <td>1904569</td>\n",
       "      <td>144.6529</td>\n",
       "      <td>NaN</td>\n",
       "      <td>NaN</td>\n",
       "      <td>NaN</td>\n",
       "      <td>NaN</td>\n",
       "    </tr>\n",
       "    <tr>\n",
       "      <th>4</th>\n",
       "      <td>5</td>\n",
       "      <td>Pakistan</td>\n",
       "      <td>235824.862</td>\n",
       "      <td>231402.117</td>\n",
       "      <td>1.0191</td>\n",
       "      <td>881912</td>\n",
       "      <td>267.4018</td>\n",
       "      <td>NaN</td>\n",
       "      <td>Row Labels</td>\n",
       "      <td>Max of pop2021</td>\n",
       "      <td>Sum of pop2022</td>\n",
       "    </tr>\n",
       "    <tr>\n",
       "      <th>5</th>\n",
       "      <td>6</td>\n",
       "      <td>Nigeria</td>\n",
       "      <td>218541.212</td>\n",
       "      <td>213401.323</td>\n",
       "      <td>1.0241</td>\n",
       "      <td>923768</td>\n",
       "      <td>236.5759</td>\n",
       "      <td>NaN</td>\n",
       "      <td>China</td>\n",
       "      <td>1425893.465</td>\n",
       "      <td>1425887.337</td>\n",
       "    </tr>\n",
       "    <tr>\n",
       "      <th>6</th>\n",
       "      <td>7</td>\n",
       "      <td>Brazil</td>\n",
       "      <td>215313.498</td>\n",
       "      <td>214326.223</td>\n",
       "      <td>1.0046</td>\n",
       "      <td>8515767</td>\n",
       "      <td>25.2841</td>\n",
       "      <td>NaN</td>\n",
       "      <td>India</td>\n",
       "      <td>1407563.842</td>\n",
       "      <td>1417173.173</td>\n",
       "    </tr>\n",
       "    <tr>\n",
       "      <th>7</th>\n",
       "      <td>8</td>\n",
       "      <td>Bangladesh</td>\n",
       "      <td>171186.372</td>\n",
       "      <td>169356.251</td>\n",
       "      <td>1.0108</td>\n",
       "      <td>147570</td>\n",
       "      <td>1160.0350</td>\n",
       "      <td>NaN</td>\n",
       "      <td>United States</td>\n",
       "      <td>336997.624</td>\n",
       "      <td>338289.857</td>\n",
       "    </tr>\n",
       "    <tr>\n",
       "      <th>8</th>\n",
       "      <td>9</td>\n",
       "      <td>Russia</td>\n",
       "      <td>144713.314</td>\n",
       "      <td>145102.755</td>\n",
       "      <td>0.9973</td>\n",
       "      <td>17098242</td>\n",
       "      <td>8.4636</td>\n",
       "      <td>NaN</td>\n",
       "      <td>Grand Total</td>\n",
       "      <td>1425893.465</td>\n",
       "      <td>3181350.367</td>\n",
       "    </tr>\n",
       "    <tr>\n",
       "      <th>9</th>\n",
       "      <td>10</td>\n",
       "      <td>Mexico</td>\n",
       "      <td>127504.125</td>\n",
       "      <td>126705.138</td>\n",
       "      <td>1.0063</td>\n",
       "      <td>1964375</td>\n",
       "      <td>64.9082</td>\n",
       "      <td>NaN</td>\n",
       "      <td>NaN</td>\n",
       "      <td>NaN</td>\n",
       "      <td>NaN</td>\n",
       "    </tr>\n",
       "    <tr>\n",
       "      <th>10</th>\n",
       "      <td>11</td>\n",
       "      <td>Japan</td>\n",
       "      <td>123951.692</td>\n",
       "      <td>124612.530</td>\n",
       "      <td>0.9947</td>\n",
       "      <td>377930</td>\n",
       "      <td>327.9753</td>\n",
       "      <td>NaN</td>\n",
       "      <td>NaN</td>\n",
       "      <td>NaN</td>\n",
       "      <td>NaN</td>\n",
       "    </tr>\n",
       "  </tbody>\n",
       "</table>\n",
       "</div>"
      ],
      "text/plain": [
       "    Rank           name      pop2022      pop2021  GrowthRate      area  \\\n",
       "0      1          China  1425887.337  1425893.465      1.0000   9706961   \n",
       "1      2          India  1417173.173  1407563.842      1.0068   3287590   \n",
       "2      3  United States   338289.857   336997.624      1.0038   9372610   \n",
       "3      4      Indonesia   275501.339   273753.191      1.0064   1904569   \n",
       "4      5       Pakistan   235824.862   231402.117      1.0191    881912   \n",
       "5      6        Nigeria   218541.212   213401.323      1.0241    923768   \n",
       "6      7         Brazil   215313.498   214326.223      1.0046   8515767   \n",
       "7      8     Bangladesh   171186.372   169356.251      1.0108    147570   \n",
       "8      9         Russia   144713.314   145102.755      0.9973  17098242   \n",
       "9     10         Mexico   127504.125   126705.138      1.0063   1964375   \n",
       "10    11          Japan   123951.692   124612.530      0.9947    377930   \n",
       "\n",
       "      Density  Unnamed: 7     Unnamed: 8        Unnamed: 9     Unnamed: 10  \n",
       "0    146.8933         NaN            NaN               NaN             NaN  \n",
       "1    431.0675         NaN            NaN               NaN             NaN  \n",
       "2     36.0935         NaN           Rank  (Multiple Items)             NaN  \n",
       "3    144.6529         NaN            NaN               NaN             NaN  \n",
       "4    267.4018         NaN     Row Labels    Max of pop2021  Sum of pop2022  \n",
       "5    236.5759         NaN          China       1425893.465     1425887.337  \n",
       "6     25.2841         NaN          India       1407563.842     1417173.173  \n",
       "7   1160.0350         NaN  United States        336997.624      338289.857  \n",
       "8      8.4636         NaN    Grand Total       1425893.465     3181350.367  \n",
       "9     64.9082         NaN            NaN               NaN             NaN  \n",
       "10   327.9753         NaN            NaN               NaN             NaN  "
      ]
     },
     "execution_count": 16,
     "metadata": {},
     "output_type": "execute_result"
    }
   ],
   "source": [
    "data=pd.read_csv(\"C:\\\\Users\\\\Dell\\\\Downloads\\\\World country Population list.csv\")\n",
    "data.head(11)"
   ]
  },
  {
   "cell_type": "code",
   "execution_count": 18,
   "metadata": {},
   "outputs": [
    {
     "name": "stderr",
     "output_type": "stream",
     "text": [
      "C:\\Users\\Dell\\AppData\\Local\\Temp/ipykernel_1820/3520738129.py:1: FutureWarning: Dropping of nuisance columns in DataFrame reductions (with 'numeric_only=None') is deprecated; in a future version this will raise TypeError.  Select only valid columns before calling the reduction.\n",
      "  data.max()\n",
      "C:\\Users\\Dell\\AppData\\Local\\Temp/ipykernel_1820/3520738129.py:2: FutureWarning: Dropping of nuisance columns in DataFrame reductions (with 'numeric_only=None') is deprecated; in a future version this will raise TypeError.  Select only valid columns before calling the reduction.\n",
      "  data.min()\n"
     ]
    },
    {
     "data": {
      "text/plain": [
       "Rank                    1\n",
       "name          Afghanistan\n",
       "pop2022              0.51\n",
       "pop2021             0.511\n",
       "GrowthRate          0.912\n",
       "area                    1\n",
       "Density            0.0261\n",
       "Unnamed: 7            NaN\n",
       "dtype: object"
      ]
     },
     "execution_count": 18,
     "metadata": {},
     "output_type": "execute_result"
    }
   ],
   "source": [
    "data.max()\n",
    "data.min()"
   ]
  },
  {
   "cell_type": "code",
   "execution_count": 20,
   "metadata": {},
   "outputs": [
    {
     "data": {
      "text/plain": [
       "2310"
      ]
     },
     "execution_count": 20,
     "metadata": {},
     "output_type": "execute_result"
    }
   ],
   "source": [
    "data.size"
   ]
  },
  {
   "cell_type": "code",
   "execution_count": 21,
   "metadata": {},
   "outputs": [
    {
     "data": {
      "text/plain": [
       "<bound method NDFrame.describe of      Rank           name      pop2022      pop2021  GrowthRate     area  \\\n",
       "0       1          China  1425887.337  1425893.465      1.0000  9706961   \n",
       "1       2          India  1417173.173  1407563.842      1.0068  3287590   \n",
       "2       3  United States   338289.857   336997.624      1.0038  9372610   \n",
       "3       4      Indonesia   275501.339   273753.191      1.0064  1904569   \n",
       "4       5       Pakistan   235824.862   231402.117      1.0191   881912   \n",
       "..    ...            ...          ...          ...         ...      ...   \n",
       "205   206     San Marino       33.660       33.745      0.9975       61   \n",
       "206   207          Palau       18.055       18.024      1.0017      459   \n",
       "207   208          Nauru       12.668       12.511      1.0125       21   \n",
       "208   209         Tuvalu       11.312       11.204      1.0096       26   \n",
       "209   210   Vatican City        0.510        0.511      0.9980        1   \n",
       "\n",
       "      Density  Unnamed: 7  Unnamed: 8        Unnamed: 9     Unnamed: 10  \n",
       "0    146.8933         NaN         NaN               NaN             NaN  \n",
       "1    431.0675         NaN         NaN               NaN             NaN  \n",
       "2     36.0935         NaN        Rank  (Multiple Items)             NaN  \n",
       "3    144.6529         NaN         NaN               NaN             NaN  \n",
       "4    267.4018         NaN  Row Labels    Max of pop2021  Sum of pop2022  \n",
       "..        ...         ...         ...               ...             ...  \n",
       "205  551.8033         NaN         NaN               NaN             NaN  \n",
       "206   39.3355         NaN         NaN               NaN             NaN  \n",
       "207  603.2381         NaN         NaN               NaN             NaN  \n",
       "208  435.0769         NaN         NaN               NaN             NaN  \n",
       "209  510.0000         NaN         NaN               NaN             NaN  \n",
       "\n",
       "[210 rows x 11 columns]>"
      ]
     },
     "execution_count": 21,
     "metadata": {},
     "output_type": "execute_result"
    }
   ],
   "source": [
    "data.describe"
   ]
  },
  {
   "cell_type": "code",
   "execution_count": 22,
   "metadata": {},
   "outputs": [
    {
     "data": {
      "text/plain": [
       "<bound method flex_arith_method_FRAME.<locals>.f of      Rank           name      pop2022      pop2021  GrowthRate     area  \\\n",
       "0       1          China  1425887.337  1425893.465      1.0000  9706961   \n",
       "1       2          India  1417173.173  1407563.842      1.0068  3287590   \n",
       "2       3  United States   338289.857   336997.624      1.0038  9372610   \n",
       "3       4      Indonesia   275501.339   273753.191      1.0064  1904569   \n",
       "4       5       Pakistan   235824.862   231402.117      1.0191   881912   \n",
       "..    ...            ...          ...          ...         ...      ...   \n",
       "205   206     San Marino       33.660       33.745      0.9975       61   \n",
       "206   207          Palau       18.055       18.024      1.0017      459   \n",
       "207   208          Nauru       12.668       12.511      1.0125       21   \n",
       "208   209         Tuvalu       11.312       11.204      1.0096       26   \n",
       "209   210   Vatican City        0.510        0.511      0.9980        1   \n",
       "\n",
       "      Density  Unnamed: 7  Unnamed: 8        Unnamed: 9     Unnamed: 10  \n",
       "0    146.8933         NaN         NaN               NaN             NaN  \n",
       "1    431.0675         NaN         NaN               NaN             NaN  \n",
       "2     36.0935         NaN        Rank  (Multiple Items)             NaN  \n",
       "3    144.6529         NaN         NaN               NaN             NaN  \n",
       "4    267.4018         NaN  Row Labels    Max of pop2021  Sum of pop2022  \n",
       "..        ...         ...         ...               ...             ...  \n",
       "205  551.8033         NaN         NaN               NaN             NaN  \n",
       "206   39.3355         NaN         NaN               NaN             NaN  \n",
       "207  603.2381         NaN         NaN               NaN             NaN  \n",
       "208  435.0769         NaN         NaN               NaN             NaN  \n",
       "209  510.0000         NaN         NaN               NaN             NaN  \n",
       "\n",
       "[210 rows x 11 columns]>"
      ]
     },
     "execution_count": 22,
     "metadata": {},
     "output_type": "execute_result"
    }
   ],
   "source": [
    "data.add"
   ]
  },
  {
   "cell_type": "code",
   "execution_count": 23,
   "metadata": {},
   "outputs": [
    {
     "data": {
      "text/plain": [
       "<bound method NDFrame.infer_objects of      Rank           name      pop2022      pop2021  GrowthRate     area  \\\n",
       "0       1          China  1425887.337  1425893.465      1.0000  9706961   \n",
       "1       2          India  1417173.173  1407563.842      1.0068  3287590   \n",
       "2       3  United States   338289.857   336997.624      1.0038  9372610   \n",
       "3       4      Indonesia   275501.339   273753.191      1.0064  1904569   \n",
       "4       5       Pakistan   235824.862   231402.117      1.0191   881912   \n",
       "..    ...            ...          ...          ...         ...      ...   \n",
       "205   206     San Marino       33.660       33.745      0.9975       61   \n",
       "206   207          Palau       18.055       18.024      1.0017      459   \n",
       "207   208          Nauru       12.668       12.511      1.0125       21   \n",
       "208   209         Tuvalu       11.312       11.204      1.0096       26   \n",
       "209   210   Vatican City        0.510        0.511      0.9980        1   \n",
       "\n",
       "      Density  Unnamed: 7  Unnamed: 8        Unnamed: 9     Unnamed: 10  \n",
       "0    146.8933         NaN         NaN               NaN             NaN  \n",
       "1    431.0675         NaN         NaN               NaN             NaN  \n",
       "2     36.0935         NaN        Rank  (Multiple Items)             NaN  \n",
       "3    144.6529         NaN         NaN               NaN             NaN  \n",
       "4    267.4018         NaN  Row Labels    Max of pop2021  Sum of pop2022  \n",
       "..        ...         ...         ...               ...             ...  \n",
       "205  551.8033         NaN         NaN               NaN             NaN  \n",
       "206   39.3355         NaN         NaN               NaN             NaN  \n",
       "207  603.2381         NaN         NaN               NaN             NaN  \n",
       "208  435.0769         NaN         NaN               NaN             NaN  \n",
       "209  510.0000         NaN         NaN               NaN             NaN  \n",
       "\n",
       "[210 rows x 11 columns]>"
      ]
     },
     "execution_count": 23,
     "metadata": {},
     "output_type": "execute_result"
    }
   ],
   "source": [
    "data.infer_objects"
   ]
  },
  {
   "cell_type": "code",
   "execution_count": 25,
   "metadata": {},
   "outputs": [
    {
     "data": {
      "text/plain": [
       "2310"
      ]
     },
     "execution_count": 25,
     "metadata": {},
     "output_type": "execute_result"
    }
   ],
   "source": [
    "data.size"
   ]
  }
 ],
 "metadata": {
  "kernelspec": {
   "display_name": "Python 3",
   "language": "python",
   "name": "python3"
  },
  "language_info": {
   "codemirror_mode": {
    "name": "ipython",
    "version": 3
   },
   "file_extension": ".py",
   "mimetype": "text/x-python",
   "name": "python",
   "nbconvert_exporter": "python",
   "pygments_lexer": "ipython3",
   "version": "3.9.7 (tags/v3.9.7:1016ef3, Aug 30 2021, 20:19:38) [MSC v.1929 64 bit (AMD64)]"
  },
  "orig_nbformat": 4,
  "vscode": {
   "interpreter": {
    "hash": "bf4fbbcfb44b62809ee9ef976aff62d8f85ac4ea82e40788fda9594addf376e6"
   }
  }
 },
 "nbformat": 4,
 "nbformat_minor": 2
}
